{
 "cells": [
  {
   "cell_type": "markdown",
   "metadata": {
    "colab_type": "text",
    "id": "37puETfgRzzg"
   },
   "source": [
    "# ANN"
   ]
  },
  {
   "cell_type": "markdown",
   "metadata": {
    "colab_type": "text",
    "id": "EoRP98MpR-qj"
   },
   "source": [
    "## Importing the libraries"
   ]
  },
  {
   "cell_type": "code",
   "execution_count": 96,
   "metadata": {
    "colab": {},
    "colab_type": "code",
    "id": "N-qiINBQSK2g"
   },
   "outputs": [],
   "source": [
    "import numpy as np\n",
    "import matplotlib.pyplot as plt\n",
    "import pandas as pd\n",
    "import tensorflow as tf"
   ]
  },
  {
   "cell_type": "markdown",
   "metadata": {
    "colab_type": "text",
    "id": "RopL7tUZSQkT"
   },
   "source": [
    "## Importing the dataset"
   ]
  },
  {
   "cell_type": "code",
   "execution_count": 97,
   "metadata": {
    "colab": {},
    "colab_type": "code",
    "id": "WwEPNDWySTKm"
   },
   "outputs": [],
   "source": [
    "dataset = pd.read_csv('finalf.csv')\n",
    "dataset = dataset.drop('Area',1)\n",
    "X = dataset.iloc[:, :-1].values\n",
    "y = dataset.iloc[:, -1].values"
   ]
  },
  {
   "cell_type": "code",
   "execution_count": 98,
   "metadata": {
    "colab": {
     "base_uri": "https://localhost:8080/",
     "height": 188
    },
    "colab_type": "code",
    "id": "hCsz2yCebe1R",
    "outputId": "1e4cc568-4e51-4b38-9d46-4aa3f15204be"
   },
   "outputs": [
    {
     "data": {
      "text/plain": [
       "array([[148.41, 12.63, 470.6, ..., 'Anamalai Series', 24, 750],\n",
       "       [159.66, 13.96, 513.38, ..., 'Anamalai Series', 27, 705],\n",
       "       [187.52, 11.35, 672.23, ..., 'Peelamedu Series', 24, 670],\n",
       "       ...,\n",
       "       [169.27, 12.9, 546.33, ..., 'Irugur Series', 27, 1555],\n",
       "       [209.93, 15.88, 607.06, ..., 'Palathurai Series', 26, 1646],\n",
       "       [186.87, 13.09, 594.4, ..., 'Irugur Series', 29, 998]],\n",
       "      dtype=object)"
      ]
     },
     "execution_count": 98,
     "metadata": {},
     "output_type": "execute_result"
    }
   ],
   "source": [
    "X"
   ]
  },
  {
   "cell_type": "code",
   "execution_count": 99,
   "metadata": {
    "colab": {
     "base_uri": "https://localhost:8080/",
     "height": 34
    },
    "colab_type": "code",
    "id": "eYrOQ43XcJR3",
    "outputId": "e0873b2a-3b08-4bab-ef0d-15b88858ca44"
   },
   "outputs": [
    {
     "data": {
      "text/plain": [
       "array(['Banana', 'Banana', 'Banana', ..., 'Coconut', 'Coconut', 'Coconut'],\n",
       "      dtype=object)"
      ]
     },
     "execution_count": 99,
     "metadata": {},
     "output_type": "execute_result"
    }
   ],
   "source": [
    "y"
   ]
  },
  {
   "cell_type": "markdown",
   "metadata": {
    "colab_type": "text",
    "id": "CriG6VzVSjcK"
   },
   "source": [
    "## Encoding categorical data"
   ]
  },
  {
   "cell_type": "markdown",
   "metadata": {
    "colab_type": "text",
    "id": "AhSpdQWeSsFh"
   },
   "source": [
    "### Encoding the Independent Variable"
   ]
  },
  {
   "cell_type": "code",
   "execution_count": 100,
   "metadata": {
    "colab": {},
    "colab_type": "code",
    "id": "5hwuVddlSwVi"
   },
   "outputs": [],
   "source": [
    "from sklearn.compose import ColumnTransformer\n",
    "from sklearn.preprocessing import OneHotEncoder\n",
    "ct = ColumnTransformer(transformers=[('encoder', OneHotEncoder(), [5])], remainder='passthrough')\n",
    "X = np.array(ct.fit_transform(X))"
   ]
  },
  {
   "cell_type": "code",
   "execution_count": 101,
   "metadata": {
    "colab": {
     "base_uri": "https://localhost:8080/",
     "height": 188
    },
    "colab_type": "code",
    "id": "f7QspewyeBfx",
    "outputId": "5b35feef-7fe2-46ef-ce70-80495f94f4ed"
   },
   "outputs": [
    {
     "data": {
      "text/plain": [
       "array([1.0, 0.0, 0.0, 0.0, 0.0, 0.0, 0.0, 0.0, 0.0, 0.0, 0.0, 148.41,\n",
       "       12.63, 470.6, 0.27, 6.97, 24, 750], dtype=object)"
      ]
     },
     "execution_count": 101,
     "metadata": {},
     "output_type": "execute_result"
    }
   ],
   "source": [
    "X[0]"
   ]
  },
  {
   "cell_type": "markdown",
   "metadata": {
    "colab_type": "text",
    "id": "DXh8oVSITIc6"
   },
   "source": [
    "### Encoding the Dependent Variable"
   ]
  },
  {
   "cell_type": "code",
   "execution_count": 102,
   "metadata": {
    "colab": {},
    "colab_type": "code",
    "id": "XgHCShVyTOYY"
   },
   "outputs": [],
   "source": [
    "from sklearn.preprocessing import LabelEncoder\n",
    "le = LabelEncoder()\n",
    "le.fit(y)\n",
    "y = le.fit_transform(y)"
   ]
  },
  {
   "cell_type": "code",
   "execution_count": 103,
   "metadata": {
    "colab": {
     "base_uri": "https://localhost:8080/",
     "height": 34
    },
    "colab_type": "code",
    "id": "FyhY8-gPpFCa",
    "outputId": "7f76ef29-5423-4c3e-cf69-45fbc366a997"
   },
   "outputs": [
    {
     "data": {
      "text/plain": [
       "array([0, 0, 0, ..., 5, 5, 5])"
      ]
     },
     "execution_count": 103,
     "metadata": {},
     "output_type": "execute_result"
    }
   ],
   "source": [
    "y"
   ]
  },
  {
   "cell_type": "markdown",
   "metadata": {
    "colab_type": "text",
    "id": "qb_vcgm3qZKW"
   },
   "source": [
    "## Splitting the dataset into the Training set and Test set"
   ]
  },
  {
   "cell_type": "code",
   "execution_count": 104,
   "metadata": {
    "colab": {},
    "colab_type": "code",
    "id": "pXgA6CzlqbCl"
   },
   "outputs": [],
   "source": [
    "from sklearn.model_selection import train_test_split\n",
    "X_train, X_test, y_train, y_test = train_test_split(X, y, test_size = 0.2, random_state = 0)"
   ]
  },
  {
   "cell_type": "code",
   "execution_count": 105,
   "metadata": {
    "colab": {
     "base_uri": "https://localhost:8080/",
     "height": 154
    },
    "colab_type": "code",
    "id": "GuwQhFdKrYTM",
    "outputId": "de1e527f-c229-4daf-e7c5-ea9d2485148d"
   },
   "outputs": [
    {
     "name": "stdout",
     "output_type": "stream",
     "text": [
      "[[0.0 0.0 0.0 ... 8.15 34 2590]\n",
      " [0.0 0.0 0.0 ... 7.96 33 2945]\n",
      " [0.0 1.0 0.0 ... 7.37 26 1890]\n",
      " ...\n",
      " [0.0 0.0 0.0 ... 7.77 31 406]\n",
      " [0.0 0.0 1.0 ... 7.2 34 685]\n",
      " [0.0 0.0 0.0 ... 7.57 35 478]]\n"
     ]
    }
   ],
   "source": [
    "print(X_train)"
   ]
  },
  {
   "cell_type": "code",
   "execution_count": 106,
   "metadata": {
    "colab": {
     "base_uri": "https://localhost:8080/",
     "height": 51
    },
    "colab_type": "code",
    "id": "TUrX_Tvcrbi4",
    "outputId": "9a041a9b-2642-4828-fa2f-a431d7d77631"
   },
   "outputs": [
    {
     "data": {
      "text/plain": [
       "array([[0.0, 0.0, 0.0, ..., 8.78, 22, 564],\n",
       "       [0.0, 0.0, 1.0, ..., 7.53, 27, 603],\n",
       "       [0.0, 1.0, 0.0, ..., 7.88, 20, 468],\n",
       "       ...,\n",
       "       [0.0, 0.0, 1.0, ..., 7.64, 35, 596],\n",
       "       [0.0, 0.0, 1.0, ..., 7.52, 25, 1680],\n",
       "       [0.0, 0.0, 1.0, ..., 7.35, 30, 1677]], dtype=object)"
      ]
     },
     "execution_count": 106,
     "metadata": {},
     "output_type": "execute_result"
    }
   ],
   "source": [
    "X_test"
   ]
  },
  {
   "cell_type": "code",
   "execution_count": 107,
   "metadata": {
    "colab": {
     "base_uri": "https://localhost:8080/",
     "height": 34
    },
    "colab_type": "code",
    "id": "pSMHiIsWreQY",
    "outputId": "5afe91e0-9244-4bf5-ec1b-e3e092b85c08"
   },
   "outputs": [
    {
     "data": {
      "text/plain": [
       "array([16, 16,  5, 11,  0, 14, 16, 15,  5, 12,  5,  3,  9,  5, 18, 15,  7,\n",
       "       15,  1, 15,  6, 15,  5,  3, 15,  0,  0, 16, 15, 18, 15, 18,  6, 15,\n",
       "       16, 15, 15,  1, 15, 18,  8,  5,  0, 10, 15,  3, 15, 11,  7, 10, 15,\n",
       "       11, 14,  1, 11, 15,  7, 15,  9,  5, 12,  8,  0,  5,  9, 16,  5,  3,\n",
       "        5,  5,  7, 15,  7,  5, 10, 15, 12,  7, 15,  7, 10,  5, 13, 18,  9,\n",
       "       15, 14,  0, 15,  0,  7, 15, 11, 14, 15, 10,  5, 14,  5,  0,  9, 15,\n",
       "       15, 17, 15, 15, 11,  0,  5, 15,  5, 15,  5, 15,  7, 15,  7, 15,  5,\n",
       "       16, 11,  5, 16,  7,  5, 15, 12, 13,  5, 12,  5,  4,  7, 17, 17, 14,\n",
       "       11,  7,  5, 18,  2, 15, 18,  2, 14,  6, 15, 13,  8,  5,  9, 10, 15,\n",
       "       14,  4, 15, 14,  1, 11,  5, 15,  4, 15, 17, 15,  7, 15, 15, 10, 11,\n",
       "        6,  0,  1, 15,  0,  2,  7,  4, 15,  0,  5, 15,  7, 15,  7, 13,  0,\n",
       "        9, 15, 10,  5,  5, 15, 11,  0,  7,  0,  0, 16, 12, 13,  3, 15,  7,\n",
       "       19,  0,  5,  5,  9, 11, 15,  5,  7, 11,  5,  6,  7, 15, 14,  5,  0,\n",
       "       14,  5,  0, 19, 10,  5, 18,  5, 14,  2, 11, 12,  1, 15, 15,  1,  5,\n",
       "        0,  7, 14,  0,  3,  7, 15, 15,  5, 15,  7,  9,  5, 15, 17, 16, 13,\n",
       "        3, 11, 15,  5, 15,  5,  5,  0,  7, 10, 15, 15,  4, 13, 15, 12,  6,\n",
       "       16, 19,  5,  9, 11,  7,  7,  3,  5, 15,  0,  0,  0,  7,  7, 14, 16,\n",
       "        5,  7,  5,  5,  0, 12, 15, 18,  5,  9, 16,  5,  0,  3, 10,  9,  1,\n",
       "       16,  0,  0, 11,  6, 15, 11,  7, 15, 16,  9,  4,  6,  9,  0, 15,  7,\n",
       "        7,  3, 11,  7, 17,  6,  7,  0,  5, 15,  5,  6, 15, 17,  5,  7,  3,\n",
       "        5,  2, 18,  0,  6,  7,  7,  7,  1, 15, 18, 13, 18,  0, 15, 15, 14,\n",
       "       14, 15,  0,  5, 15, 11,  1,  7, 10,  3, 13, 15, 19,  5, 17, 15,  4,\n",
       "        5,  1,  7,  0, 15, 11, 11,  3,  5,  7,  0,  5, 15,  6, 11, 13,  7,\n",
       "        5, 17,  5,  5,  9, 15, 14,  9,  5, 15, 18,  0,  5, 15,  0, 15,  6,\n",
       "        7,  0,  7, 10, 13, 10,  5, 15, 11, 12, 11,  9,  9,  7, 12,  7,  5,\n",
       "        7,  5, 11,  7,  2,  3,  7, 15,  5,  5, 18,  0,  5, 15,  9,  0,  0,\n",
       "       18,  5,  0, 10,  7,  8,  5,  9,  1, 18, 18, 15, 13, 15, 17,  0,  5,\n",
       "       15,  8, 13,  2, 14,  5, 11,  5, 15,  5, 18, 15,  7, 14,  0, 15,  7,\n",
       "        5, 15, 15,  0,  2,  6, 16, 15,  5,  5, 15,  5, 15, 13, 13,  7, 11,\n",
       "        6,  7,  5, 15,  5, 14,  7,  0,  5,  7, 13, 15,  1, 15,  9, 10,  1,\n",
       "       14, 19, 15,  5,  5,  2, 11,  0,  9, 15,  7, 11,  7,  7,  5, 18,  6,\n",
       "        4, 10, 10,  6, 16, 15, 15, 16, 19,  5,  0,  7, 10,  8,  7, 11, 18,\n",
       "        5, 15, 15,  9, 15, 15, 11, 15, 15, 10, 15, 16,  5, 11, 10,  3, 15,\n",
       "       15,  6,  0,  5,  0,  9,  5,  7, 11,  5,  7, 15, 10, 18,  5, 15,  5,\n",
       "       13, 18, 10, 16,  6,  5,  0,  5,  7,  5, 11,  5,  9, 15, 10, 15, 10,\n",
       "       13,  9,  5, 16, 16,  8,  5,  7, 15, 16, 15, 15, 15,  1, 10,  5,  0,\n",
       "        5,  7, 10,  4,  4,  5, 15, 11, 18, 19, 12, 12, 15, 10, 15,  3,  1,\n",
       "        0, 10, 15, 18, 10, 17,  8,  9, 11,  5,  7, 19,  0, 15,  7,  0,  0,\n",
       "       11,  5, 15, 15,  7, 15,  5, 18, 18,  5, 19, 17, 15, 11, 10,  6,  0,\n",
       "        9,  9,  6, 13,  5,  4, 16, 15,  0, 15,  1, 15,  9, 11,  5,  5,  3,\n",
       "       15, 11,  3,  6,  7,  5,  5,  5,  5, 12,  2,  7,  0, 14, 11, 12, 16,\n",
       "        7, 15,  0, 15, 13, 15,  0,  0, 18,  5,  0, 11,  6,  0,  5, 12,  7,\n",
       "        5,  7,  5, 15,  5, 11, 18, 15, 15, 11, 18, 16,  0,  7, 15, 10, 10,\n",
       "       10, 18,  4,  5,  5, 15, 15, 13, 10,  5,  5, 15, 15,  5,  7, 15,  2,\n",
       "       13, 15,  5,  5,  5, 15, 15, 15, 15,  5, 15, 13, 15,  5,  0,  0,  7,\n",
       "       13, 15,  5, 15,  2,  6,  1,  3,  5, 12,  7, 10, 16,  0, 10,  4,  5,\n",
       "       15,  9, 16,  7, 17,  1,  5,  9, 13, 18, 15, 11, 18,  0,  4, 18, 15,\n",
       "       15, 11, 15,  5,  2, 15,  5, 17,  3,  7, 15,  5, 16,  0,  5, 15, 16,\n",
       "        9,  7, 16, 15,  0, 16, 15,  0, 11,  0, 15,  5, 15, 10, 12, 15, 10,\n",
       "        1, 15, 18,  0,  7,  2,  0,  5, 10,  7,  7, 12, 18,  7, 19,  7, 15,\n",
       "       14,  3, 10,  7, 18, 15, 15, 18, 11, 19,  5,  5, 19, 15, 17, 12,  0,\n",
       "       15, 11, 15,  7,  0,  7, 15, 16,  0, 14, 11,  5,  5,  7,  6, 16, 15,\n",
       "        5,  5,  2, 15,  0, 11,  9, 15,  4, 14, 15, 10, 10, 15, 15,  7, 18,\n",
       "       15, 15,  5,  0, 11,  7, 15,  5,  1, 15,  0, 11, 10, 11,  3,  0, 10,\n",
       "       15, 17, 15,  5, 15, 16,  5, 15, 15, 10, 15])"
      ]
     },
     "execution_count": 107,
     "metadata": {},
     "output_type": "execute_result"
    }
   ],
   "source": [
    "y_train"
   ]
  },
  {
   "cell_type": "code",
   "execution_count": 108,
   "metadata": {
    "colab": {
     "base_uri": "https://localhost:8080/",
     "height": 34
    },
    "colab_type": "code",
    "id": "I_tW7H56rgtW",
    "outputId": "2a93f141-2a99-4a69-eec5-c82a3bb8d36b"
   },
   "outputs": [
    {
     "data": {
      "text/plain": [
       "array([18, 10,  1, 15,  5,  5,  0,  9, 10, 11, 14,  5,  9,  8,  1, 11,  2,\n",
       "        0,  0,  5,  0,  5, 11, 18,  4, 10,  5, 14, 15, 15, 18, 15, 15, 18,\n",
       "       15, 15, 14,  9, 10,  5,  9, 15, 11, 15,  5, 10,  7,  5,  7, 15, 15,\n",
       "       15,  5,  5, 15, 17,  5, 11,  5,  7, 15, 15, 18, 15, 10,  7, 11, 15,\n",
       "        9, 15, 10,  5,  8, 14,  0, 17,  5,  8, 19, 13, 15,  5, 15, 15,  5,\n",
       "        7,  9, 13, 15,  0,  6, 15, 15, 15,  9, 15,  0, 15, 18,  5,  5, 18,\n",
       "       17, 11,  8,  5,  5,  0,  6, 15,  5,  3, 15,  7,  0,  5, 10,  7, 17,\n",
       "       15,  5, 15, 12, 18, 15,  5,  8,  7, 15, 10, 18,  0,  5, 15,  0, 13,\n",
       "       12,  2,  7,  0,  0,  7, 10, 17, 15,  8,  7, 15,  7,  0, 15, 15,  5,\n",
       "        9, 15, 18, 12,  5, 16,  7,  7,  0, 19, 15, 15,  9,  8, 12, 12, 19,\n",
       "       18,  0, 10,  9, 18, 14, 17,  0, 15,  7,  9,  9,  9,  7, 15, 15,  0,\n",
       "       12,  5,  7, 10, 15, 14, 15,  8,  0, 14,  8, 15,  5, 10, 11, 12,  5,\n",
       "        7, 15,  7,  0,  5, 15, 10,  0, 18,  5, 10, 15,  9, 14, 10,  6, 15,\n",
       "       15, 18, 11, 15, 11,  5, 15,  5,  0, 15,  5,  5])"
      ]
     },
     "execution_count": 108,
     "metadata": {},
     "output_type": "execute_result"
    }
   ],
   "source": [
    "y_test"
   ]
  },
  {
   "cell_type": "markdown",
   "metadata": {
    "colab_type": "text",
    "id": "TpGqbS4TqkIR"
   },
   "source": [
    "## Feature Scaling"
   ]
  },
  {
   "cell_type": "code",
   "execution_count": 109,
   "metadata": {
    "colab": {},
    "colab_type": "code",
    "id": "AxjSUXFQqo-3"
   },
   "outputs": [],
   "source": [
    "from sklearn.preprocessing import StandardScaler\n",
    "sc = StandardScaler()\n",
    "#X_train[:, 11:] = sc.fit_transform(X_train[:, 11:])\n",
    "#X_test[:, 11:] = sc.transform(X_test[:, 11:])\n",
    "X_train = sc.fit_transform(X_train)\n",
    "X_test = sc.transform(X_test)\n",
    "\n"
   ]
  },
  {
   "cell_type": "code",
   "execution_count": 110,
   "metadata": {
    "colab": {
     "base_uri": "https://localhost:8080/",
     "height": 154
    },
    "colab_type": "code",
    "id": "DWPET8ZdlMnu",
    "outputId": "dea86927-5124-4e2a-e974-2804df9a913c"
   },
   "outputs": [
    {
     "data": {
      "text/plain": [
       "array([[-0.18887687, -0.2484236 , -0.82089821, ...,  1.66567403,\n",
       "         1.47251751,  2.66301785],\n",
       "       [-0.18887687, -0.2484236 , -0.82089821, ...,  1.12426249,\n",
       "         1.23539344,  3.22368692],\n",
       "       [-0.18887687,  4.02538243, -0.82089821, ..., -0.55696282,\n",
       "        -0.42447506,  1.55747321],\n",
       "       ...,\n",
       "       [-0.18887687, -0.2484236 , -0.82089821, ...,  0.58285095,\n",
       "         0.7611453 , -0.78628144],\n",
       "       [-0.18887687, -0.2484236 ,  1.21817783, ..., -1.04138367,\n",
       "         1.47251751, -0.34564293],\n",
       "       [-0.18887687, -0.2484236 , -0.82089821, ...,  0.01294406,\n",
       "         1.70964158, -0.67256828]])"
      ]
     },
     "execution_count": 110,
     "metadata": {},
     "output_type": "execute_result"
    }
   ],
   "source": [
    "X_train"
   ]
  },
  {
   "cell_type": "code",
   "execution_count": 111,
   "metadata": {
    "colab": {
     "base_uri": "https://localhost:8080/",
     "height": 51
    },
    "colab_type": "code",
    "id": "sTXykB_QlRjE",
    "outputId": "b68f0cfc-d07c-48cb-80d0-6800028c41f9"
   },
   "outputs": [
    {
     "data": {
      "text/plain": [
       "array([[-0.18887687, -0.2484236 , -0.82089821, ...,  3.46088072,\n",
       "        -1.37297134, -0.53674422],\n",
       "       [-0.18887687, -0.2484236 ,  1.21817783, ..., -0.10103731,\n",
       "        -0.18735099, -0.47514959],\n",
       "       [-0.18887687,  4.02538243, -0.82089821, ...,  0.89629974,\n",
       "        -1.84721949, -0.68836177],\n",
       "       ...,\n",
       "       [-0.18887687, -0.2484236 ,  1.21817783, ...,  0.21241147,\n",
       "         1.70964158, -0.48620504],\n",
       "       [-0.18887687, -0.2484236 ,  1.21817783, ..., -0.12953266,\n",
       "        -0.66159913,  1.22580981],\n",
       "       [-0.18887687, -0.2484236 ,  1.21817783, ..., -0.61395351,\n",
       "         0.52402122,  1.22107177]])"
      ]
     },
     "execution_count": 111,
     "metadata": {},
     "output_type": "execute_result"
    }
   ],
   "source": [
    "X_test"
   ]
  },
  {
   "cell_type": "code",
   "execution_count": 112,
   "metadata": {},
   "outputs": [],
   "source": [
    "ann = tf.keras.models.Sequential()\n",
    "ann.add(tf.keras.layers.Dense(units=6, activation='relu'))\n",
    "ann.add(tf.keras.layers.Dense(units=6, activation='relu'))\n",
    "ann.add(tf.keras.layers.Dense(units=20, activation='softmax'))\n",
    "ann.compile(optimizer = 'adam', loss = 'categorical_crossentropy', metrics = ['accuracy'])\n",
    "#import from tf.keras.utils.to_categorical\n",
    "from tensorflow.keras.utils import to_categorical\n",
    "y_train=to_categorical(y_train,20)\n",
    "y_test = to_categorical(y_test,20)\n"
   ]
  },
  {
   "cell_type": "code",
   "execution_count": 122,
   "metadata": {},
   "outputs": [
    {
     "name": "stdout",
     "output_type": "stream",
     "text": [
      "Epoch 1/100\n",
      "30/30 [==============================] - 0s 2ms/step - loss: 0.4055 - accuracy: 0.8665\n",
      "Epoch 2/100\n",
      "30/30 [==============================] - 0s 2ms/step - loss: 0.4053 - accuracy: 0.8644\n",
      "Epoch 3/100\n",
      "30/30 [==============================] - 0s 3ms/step - loss: 0.4042 - accuracy: 0.8676\n",
      "Epoch 4/100\n",
      "30/30 [==============================] - 0s 3ms/step - loss: 0.4289 - accuracy: 0.8601\n",
      "Epoch 5/100\n",
      "30/30 [==============================] - 0s 3ms/step - loss: 0.4213 - accuracy: 0.8633\n",
      "Epoch 6/100\n",
      "30/30 [==============================] - 0s 3ms/step - loss: 0.4157 - accuracy: 0.8687\n",
      "Epoch 7/100\n",
      "30/30 [==============================] - 0s 2ms/step - loss: 0.4102 - accuracy: 0.8633\n",
      "Epoch 8/100\n",
      "30/30 [==============================] - 0s 3ms/step - loss: 0.4096 - accuracy: 0.8676\n",
      "Epoch 9/100\n",
      "30/30 [==============================] - 0s 2ms/step - loss: 0.4078 - accuracy: 0.8654\n",
      "Epoch 10/100\n",
      "30/30 [==============================] - 0s 2ms/step - loss: 0.4060 - accuracy: 0.8622\n",
      "Epoch 11/100\n",
      "30/30 [==============================] - 0s 3ms/step - loss: 0.4047 - accuracy: 0.8622\n",
      "Epoch 12/100\n",
      "30/30 [==============================] - 0s 4ms/step - loss: 0.4058 - accuracy: 0.8590\n",
      "Epoch 13/100\n",
      "30/30 [==============================] - 0s 3ms/step - loss: 0.4045 - accuracy: 0.8633\n",
      "Epoch 14/100\n",
      "30/30 [==============================] - 0s 2ms/step - loss: 0.4040 - accuracy: 0.8665\n",
      "Epoch 15/100\n",
      "30/30 [==============================] - 0s 4ms/step - loss: 0.4045 - accuracy: 0.8654\n",
      "Epoch 16/100\n",
      "30/30 [==============================] - 0s 3ms/step - loss: 0.4031 - accuracy: 0.8611\n",
      "Epoch 17/100\n",
      "30/30 [==============================] - 0s 2ms/step - loss: 0.4012 - accuracy: 0.8719\n",
      "Epoch 18/100\n",
      "30/30 [==============================] - 0s 3ms/step - loss: 0.4030 - accuracy: 0.8698\n",
      "Epoch 19/100\n",
      "30/30 [==============================] - 0s 3ms/step - loss: 0.4050 - accuracy: 0.8601\n",
      "Epoch 20/100\n",
      "30/30 [==============================] - 0s 3ms/step - loss: 0.4037 - accuracy: 0.8611\n",
      "Epoch 21/100\n",
      "30/30 [==============================] - 0s 4ms/step - loss: 0.4015 - accuracy: 0.8708\n",
      "Epoch 22/100\n",
      "30/30 [==============================] - 0s 3ms/step - loss: 0.4060 - accuracy: 0.8698\n",
      "Epoch 23/100\n",
      "30/30 [==============================] - 0s 3ms/step - loss: 0.4045 - accuracy: 0.8676\n",
      "Epoch 24/100\n",
      "30/30 [==============================] - 0s 2ms/step - loss: 0.4031 - accuracy: 0.8611\n",
      "Epoch 25/100\n",
      "30/30 [==============================] - 0s 3ms/step - loss: 0.4015 - accuracy: 0.8622\n",
      "Epoch 26/100\n",
      "30/30 [==============================] - 0s 4ms/step - loss: 0.4052 - accuracy: 0.8719\n",
      "Epoch 27/100\n",
      "30/30 [==============================] - 0s 3ms/step - loss: 0.4007 - accuracy: 0.8719\n",
      "Epoch 28/100\n",
      "30/30 [==============================] - 0s 3ms/step - loss: 0.3990 - accuracy: 0.8687\n",
      "Epoch 29/100\n",
      "30/30 [==============================] - 0s 2ms/step - loss: 0.3988 - accuracy: 0.8698\n",
      "Epoch 30/100\n",
      "30/30 [==============================] - 0s 2ms/step - loss: 0.3994 - accuracy: 0.8698\n",
      "Epoch 31/100\n",
      "30/30 [==============================] - 0s 3ms/step - loss: 0.4031 - accuracy: 0.8708\n",
      "Epoch 32/100\n",
      "30/30 [==============================] - 0s 5ms/step - loss: 0.4006 - accuracy: 0.8730\n",
      "Epoch 33/100\n",
      "30/30 [==============================] - 0s 3ms/step - loss: 0.4028 - accuracy: 0.8633\n",
      "Epoch 34/100\n",
      "30/30 [==============================] - 0s 3ms/step - loss: 0.4008 - accuracy: 0.8644\n",
      "Epoch 35/100\n",
      "30/30 [==============================] - 0s 6ms/step - loss: 0.3979 - accuracy: 0.8665\n",
      "Epoch 36/100\n",
      "30/30 [==============================] - 0s 3ms/step - loss: 0.3969 - accuracy: 0.8708\n",
      "Epoch 37/100\n",
      "30/30 [==============================] - 0s 2ms/step - loss: 0.3970 - accuracy: 0.8654\n",
      "Epoch 38/100\n",
      "30/30 [==============================] - 0s 2ms/step - loss: 0.4007 - accuracy: 0.8698\n",
      "Epoch 39/100\n",
      "30/30 [==============================] - 0s 4ms/step - loss: 0.3973 - accuracy: 0.8687\n",
      "Epoch 40/100\n",
      "30/30 [==============================] - 0s 4ms/step - loss: 0.3972 - accuracy: 0.8698\n",
      "Epoch 41/100\n",
      "30/30 [==============================] - 0s 3ms/step - loss: 0.3992 - accuracy: 0.8601\n",
      "Epoch 42/100\n",
      "30/30 [==============================] - 0s 3ms/step - loss: 0.3967 - accuracy: 0.8654\n",
      "Epoch 43/100\n",
      "30/30 [==============================] - 0s 2ms/step - loss: 0.3977 - accuracy: 0.8708\n",
      "Epoch 44/100\n",
      "30/30 [==============================] - 0s 2ms/step - loss: 0.3967 - accuracy: 0.8633\n",
      "Epoch 45/100\n",
      "30/30 [==============================] - 0s 2ms/step - loss: 0.3992 - accuracy: 0.8601\n",
      "Epoch 46/100\n",
      "30/30 [==============================] - 0s 2ms/step - loss: 0.3976 - accuracy: 0.8654\n",
      "Epoch 47/100\n",
      "30/30 [==============================] - 0s 2ms/step - loss: 0.3982 - accuracy: 0.8654\n",
      "Epoch 48/100\n",
      "30/30 [==============================] - 0s 2ms/step - loss: 0.3966 - accuracy: 0.8698\n",
      "Epoch 49/100\n",
      "30/30 [==============================] - 0s 2ms/step - loss: 0.3953 - accuracy: 0.8665\n",
      "Epoch 50/100\n",
      "30/30 [==============================] - 0s 2ms/step - loss: 0.3950 - accuracy: 0.8676\n",
      "Epoch 51/100\n",
      "30/30 [==============================] - 0s 2ms/step - loss: 0.4012 - accuracy: 0.8665\n",
      "Epoch 52/100\n",
      "30/30 [==============================] - 0s 2ms/step - loss: 0.4016 - accuracy: 0.8644\n",
      "Epoch 53/100\n",
      "30/30 [==============================] - 0s 3ms/step - loss: 0.3986 - accuracy: 0.8676\n",
      "Epoch 54/100\n",
      "30/30 [==============================] - 0s 2ms/step - loss: 0.4099 - accuracy: 0.8644\n",
      "Epoch 55/100\n",
      "30/30 [==============================] - 0s 2ms/step - loss: 0.4056 - accuracy: 0.8698\n",
      "Epoch 56/100\n",
      "30/30 [==============================] - 0s 3ms/step - loss: 0.3964 - accuracy: 0.8698\n",
      "Epoch 57/100\n",
      "30/30 [==============================] - 0s 2ms/step - loss: 0.3957 - accuracy: 0.8698\n",
      "Epoch 58/100\n",
      "30/30 [==============================] - 0s 2ms/step - loss: 0.3947 - accuracy: 0.8676\n",
      "Epoch 59/100\n",
      "30/30 [==============================] - 0s 2ms/step - loss: 0.3936 - accuracy: 0.8708\n",
      "Epoch 60/100\n",
      "30/30 [==============================] - 0s 2ms/step - loss: 0.3925 - accuracy: 0.8719\n",
      "Epoch 61/100\n",
      "30/30 [==============================] - 0s 2ms/step - loss: 0.3930 - accuracy: 0.8601\n",
      "Epoch 62/100\n",
      "30/30 [==============================] - 0s 2ms/step - loss: 0.3981 - accuracy: 0.8644\n",
      "Epoch 63/100\n",
      "30/30 [==============================] - 0s 2ms/step - loss: 0.3952 - accuracy: 0.8719\n",
      "Epoch 64/100\n",
      "30/30 [==============================] - 0s 2ms/step - loss: 0.3944 - accuracy: 0.8676\n",
      "Epoch 65/100\n",
      "30/30 [==============================] - 0s 2ms/step - loss: 0.4020 - accuracy: 0.8719\n",
      "Epoch 66/100\n",
      "30/30 [==============================] - 0s 2ms/step - loss: 0.3973 - accuracy: 0.8654\n",
      "Epoch 67/100\n",
      "30/30 [==============================] - 0s 2ms/step - loss: 0.3942 - accuracy: 0.8654\n",
      "Epoch 68/100\n",
      "30/30 [==============================] - 0s 2ms/step - loss: 0.3935 - accuracy: 0.8708\n",
      "Epoch 69/100\n",
      "30/30 [==============================] - 0s 2ms/step - loss: 0.3931 - accuracy: 0.8687\n",
      "Epoch 70/100\n",
      "30/30 [==============================] - 0s 2ms/step - loss: 0.3952 - accuracy: 0.8687\n",
      "Epoch 71/100\n",
      "30/30 [==============================] - 0s 2ms/step - loss: 0.3940 - accuracy: 0.8665\n",
      "Epoch 72/100\n",
      "30/30 [==============================] - 0s 3ms/step - loss: 0.3941 - accuracy: 0.8676\n",
      "Epoch 73/100\n",
      "30/30 [==============================] - 0s 3ms/step - loss: 0.3919 - accuracy: 0.8676\n",
      "Epoch 74/100\n",
      "30/30 [==============================] - 0s 3ms/step - loss: 0.4056 - accuracy: 0.8622\n",
      "Epoch 75/100\n",
      "30/30 [==============================] - 0s 4ms/step - loss: 0.4041 - accuracy: 0.8590\n",
      "Epoch 76/100\n",
      "30/30 [==============================] - 0s 2ms/step - loss: 0.3941 - accuracy: 0.8676\n",
      "Epoch 77/100\n",
      "30/30 [==============================] - 0s 3ms/step - loss: 0.3928 - accuracy: 0.8698\n",
      "Epoch 78/100\n",
      "30/30 [==============================] - 0s 3ms/step - loss: 0.3955 - accuracy: 0.8741\n",
      "Epoch 79/100\n",
      "30/30 [==============================] - 0s 5ms/step - loss: 0.3945 - accuracy: 0.8708\n",
      "Epoch 80/100\n",
      "30/30 [==============================] - 0s 3ms/step - loss: 0.3921 - accuracy: 0.8644\n",
      "Epoch 81/100\n",
      "30/30 [==============================] - 0s 3ms/step - loss: 0.4037 - accuracy: 0.8665\n",
      "Epoch 82/100\n",
      "30/30 [==============================] - 0s 2ms/step - loss: 0.4023 - accuracy: 0.8644\n",
      "Epoch 83/100\n"
     ]
    },
    {
     "name": "stdout",
     "output_type": "stream",
     "text": [
      "30/30 [==============================] - 0s 2ms/step - loss: 0.4003 - accuracy: 0.8590\n",
      "Epoch 84/100\n",
      "30/30 [==============================] - 0s 2ms/step - loss: 0.3952 - accuracy: 0.8611\n",
      "Epoch 85/100\n",
      "30/30 [==============================] - 0s 3ms/step - loss: 0.3929 - accuracy: 0.8644\n",
      "Epoch 86/100\n",
      "30/30 [==============================] - 0s 2ms/step - loss: 0.3907 - accuracy: 0.8665\n",
      "Epoch 87/100\n",
      "30/30 [==============================] - 0s 1ms/step - loss: 0.3907 - accuracy: 0.8644\n",
      "Epoch 88/100\n",
      "30/30 [==============================] - 0s 1ms/step - loss: 0.3903 - accuracy: 0.8730\n",
      "Epoch 89/100\n",
      "30/30 [==============================] - 0s 1ms/step - loss: 0.3897 - accuracy: 0.8654\n",
      "Epoch 90/100\n",
      "30/30 [==============================] - 0s 1ms/step - loss: 0.3887 - accuracy: 0.8687\n",
      "Epoch 91/100\n",
      "30/30 [==============================] - 0s 1ms/step - loss: 0.3887 - accuracy: 0.8676\n",
      "Epoch 92/100\n",
      "30/30 [==============================] - 0s 1ms/step - loss: 0.3891 - accuracy: 0.8665\n",
      "Epoch 93/100\n",
      "30/30 [==============================] - 0s 1ms/step - loss: 0.3888 - accuracy: 0.8708\n",
      "Epoch 94/100\n",
      "30/30 [==============================] - 0s 1ms/step - loss: 0.3906 - accuracy: 0.8633\n",
      "Epoch 95/100\n",
      "30/30 [==============================] - 0s 1ms/step - loss: 0.3897 - accuracy: 0.8676\n",
      "Epoch 96/100\n",
      "30/30 [==============================] - 0s 1ms/step - loss: 0.3913 - accuracy: 0.8633\n",
      "Epoch 97/100\n",
      "30/30 [==============================] - 0s 1ms/step - loss: 0.3902 - accuracy: 0.8719\n",
      "Epoch 98/100\n",
      "30/30 [==============================] - 0s 1ms/step - loss: 0.3884 - accuracy: 0.8730\n",
      "Epoch 99/100\n",
      "30/30 [==============================] - 0s 1ms/step - loss: 0.3882 - accuracy: 0.8708\n",
      "Epoch 100/100\n",
      "30/30 [==============================] - 0s 2ms/step - loss: 0.3877 - accuracy: 0.8687\n"
     ]
    }
   ],
   "source": [
    "ann.fit(X_train, y_train, batch_size = 32, epochs = 100)\n",
    "y_pred = ann.predict(X_test)\n",
    "y_pred = (y_pred > 0.5)\n",
    "\n",
    "\n",
    "\n"
   ]
  },
  {
   "cell_type": "code",
   "execution_count": null,
   "metadata": {},
   "outputs": [],
   "source": []
  },
  {
   "cell_type": "code",
   "execution_count": null,
   "metadata": {},
   "outputs": [],
   "source": []
  },
  {
   "cell_type": "code",
   "execution_count": null,
   "metadata": {},
   "outputs": [],
   "source": []
  },
  {
   "cell_type": "code",
   "execution_count": null,
   "metadata": {},
   "outputs": [],
   "source": []
  },
  {
   "cell_type": "code",
   "execution_count": null,
   "metadata": {},
   "outputs": [],
   "source": []
  },
  {
   "cell_type": "code",
   "execution_count": null,
   "metadata": {},
   "outputs": [],
   "source": []
  }
 ],
 "metadata": {
  "colab": {
   "collapsed_sections": [],
   "name": "data_preprocessing_tools.ipynb",
   "provenance": [],
   "toc_visible": true
  },
  "kernelspec": {
   "display_name": "Python 3",
   "language": "python",
   "name": "python3"
  },
  "language_info": {
   "codemirror_mode": {
    "name": "ipython",
    "version": 3
   },
   "file_extension": ".py",
   "mimetype": "text/x-python",
   "name": "python",
   "nbconvert_exporter": "python",
   "pygments_lexer": "ipython3",
   "version": "3.8.5"
  }
 },
 "nbformat": 4,
 "nbformat_minor": 1
}
