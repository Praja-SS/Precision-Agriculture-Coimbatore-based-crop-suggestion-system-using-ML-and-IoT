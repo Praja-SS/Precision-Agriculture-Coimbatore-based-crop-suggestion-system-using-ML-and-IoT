{
 "cells": [
  {
   "cell_type": "markdown",
   "metadata": {
    "colab_type": "text",
    "id": "37puETfgRzzg"
   },
   "source": [
    "# Majority Voting Technique"
   ]
  },
  {
   "cell_type": "markdown",
   "metadata": {
    "colab_type": "text",
    "id": "EoRP98MpR-qj"
   },
   "source": [
    "## Importing the libraries"
   ]
  },
  {
   "cell_type": "code",
   "execution_count": 22,
   "metadata": {
    "colab": {},
    "colab_type": "code",
    "id": "N-qiINBQSK2g"
   },
   "outputs": [],
   "source": [
    "import numpy as np\n",
    "import matplotlib.pyplot as plt\n",
    "import pandas as pd"
   ]
  },
  {
   "cell_type": "markdown",
   "metadata": {
    "colab_type": "text",
    "id": "RopL7tUZSQkT"
   },
   "source": [
    "## Importing the dataset"
   ]
  },
  {
   "cell_type": "code",
   "execution_count": 23,
   "metadata": {
    "colab": {},
    "colab_type": "code",
    "id": "WwEPNDWySTKm"
   },
   "outputs": [],
   "source": [
    "dataset = pd.read_csv('finalf.csv')\n",
    "dataset = dataset.drop('Area',1)\n",
    "X = dataset.iloc[:, :-1].values\n",
    "y = dataset.iloc[:, -1].values"
   ]
  },
  {
   "cell_type": "code",
   "execution_count": 24,
   "metadata": {
    "colab": {
     "base_uri": "https://localhost:8080/",
     "height": 188
    },
    "colab_type": "code",
    "id": "hCsz2yCebe1R",
    "outputId": "1e4cc568-4e51-4b38-9d46-4aa3f15204be"
   },
   "outputs": [
    {
     "data": {
      "text/plain": [
       "array([[148.41, 12.63, 470.6, ..., 'Anamalai Series', 24, 750],\n",
       "       [159.66, 13.96, 513.38, ..., 'Anamalai Series', 27, 705],\n",
       "       [187.52, 11.35, 672.23, ..., 'Peelamedu Series', 24, 670],\n",
       "       ...,\n",
       "       [169.27, 12.9, 546.33, ..., 'Irugur Series', 27, 1555],\n",
       "       [209.93, 15.88, 607.06, ..., 'Palathurai Series', 26, 1646],\n",
       "       [186.87, 13.09, 594.4, ..., 'Irugur Series', 29, 998]],\n",
       "      dtype=object)"
      ]
     },
     "execution_count": 24,
     "metadata": {},
     "output_type": "execute_result"
    }
   ],
   "source": [
    "X"
   ]
  },
  {
   "cell_type": "code",
   "execution_count": 25,
   "metadata": {
    "colab": {
     "base_uri": "https://localhost:8080/",
     "height": 34
    },
    "colab_type": "code",
    "id": "eYrOQ43XcJR3",
    "outputId": "e0873b2a-3b08-4bab-ef0d-15b88858ca44"
   },
   "outputs": [
    {
     "data": {
      "text/plain": [
       "array(['Banana', 'Banana', 'Banana', ..., 'Coconut', 'Coconut', 'Coconut'],\n",
       "      dtype=object)"
      ]
     },
     "execution_count": 25,
     "metadata": {},
     "output_type": "execute_result"
    }
   ],
   "source": [
    "y"
   ]
  },
  {
   "cell_type": "markdown",
   "metadata": {
    "colab_type": "text",
    "id": "CriG6VzVSjcK"
   },
   "source": [
    "## Encoding categorical data"
   ]
  },
  {
   "cell_type": "markdown",
   "metadata": {
    "colab_type": "text",
    "id": "AhSpdQWeSsFh"
   },
   "source": [
    "### Encoding the Independent Variable"
   ]
  },
  {
   "cell_type": "code",
   "execution_count": 26,
   "metadata": {
    "colab": {},
    "colab_type": "code",
    "id": "5hwuVddlSwVi"
   },
   "outputs": [],
   "source": [
    "from sklearn.compose import ColumnTransformer\n",
    "from sklearn.preprocessing import OneHotEncoder\n",
    "ct = ColumnTransformer(transformers=[('encoder', OneHotEncoder(), [5])], remainder='passthrough')\n",
    "temp=X[:,5]\n",
    "X = np.array(ct.fit_transform(X))\n",
    "temp1=X[:,:11]\n",
    "soiltype={temp[i]:temp1[i] for i in range(len(temp))}"
   ]
  },
  {
   "cell_type": "code",
   "execution_count": 27,
   "metadata": {
    "colab": {
     "base_uri": "https://localhost:8080/",
     "height": 188
    },
    "colab_type": "code",
    "id": "f7QspewyeBfx",
    "outputId": "5b35feef-7fe2-46ef-ce70-80495f94f4ed"
   },
   "outputs": [
    {
     "data": {
      "text/plain": [
       "array([1.0, 0.0, 0.0, 0.0, 0.0, 0.0, 0.0, 0.0, 0.0, 0.0, 0.0, 148.41,\n",
       "       12.63, 470.6, 0.27, 6.97, 24, 750], dtype=object)"
      ]
     },
     "execution_count": 27,
     "metadata": {},
     "output_type": "execute_result"
    }
   ],
   "source": [
    "X[0]"
   ]
  },
  {
   "cell_type": "markdown",
   "metadata": {
    "colab_type": "text",
    "id": "DXh8oVSITIc6"
   },
   "source": [
    "### Encoding the Dependent Variable"
   ]
  },
  {
   "cell_type": "code",
   "execution_count": 28,
   "metadata": {
    "colab": {},
    "colab_type": "code",
    "id": "XgHCShVyTOYY"
   },
   "outputs": [],
   "source": [
    "from sklearn.preprocessing import LabelEncoder\n",
    "le = LabelEncoder()\n",
    "y = le.fit_transform(y)"
   ]
  },
  {
   "cell_type": "code",
   "execution_count": 29,
   "metadata": {
    "colab": {
     "base_uri": "https://localhost:8080/",
     "height": 34
    },
    "colab_type": "code",
    "id": "FyhY8-gPpFCa",
    "outputId": "7f76ef29-5423-4c3e-cf69-45fbc366a997"
   },
   "outputs": [
    {
     "data": {
      "text/plain": [
       "array([0, 0, 0, ..., 5, 5, 5])"
      ]
     },
     "execution_count": 29,
     "metadata": {},
     "output_type": "execute_result"
    }
   ],
   "source": [
    "y"
   ]
  },
  {
   "cell_type": "markdown",
   "metadata": {
    "colab_type": "text",
    "id": "qb_vcgm3qZKW"
   },
   "source": [
    "## Splitting the dataset into the Training set and Test set"
   ]
  },
  {
   "cell_type": "code",
   "execution_count": 30,
   "metadata": {
    "colab": {},
    "colab_type": "code",
    "id": "pXgA6CzlqbCl"
   },
   "outputs": [],
   "source": [
    "from sklearn.model_selection import train_test_split\n",
    "X_train, X_test, y_train, y_test = train_test_split(X, y, test_size = 0.2, random_state = 1)"
   ]
  },
  {
   "cell_type": "code",
   "execution_count": 31,
   "metadata": {
    "colab": {
     "base_uri": "https://localhost:8080/",
     "height": 154
    },
    "colab_type": "code",
    "id": "GuwQhFdKrYTM",
    "outputId": "de1e527f-c229-4daf-e7c5-ea9d2485148d"
   },
   "outputs": [
    {
     "name": "stdout",
     "output_type": "stream",
     "text": [
      "[[0.0 0.0 1.0 ... 7.12 27 1100]\n",
      " [0.0 0.0 1.0 ... 7.41 35 513]\n",
      " [0.0 0.0 1.0 ... 7.73 27 608]\n",
      " ...\n",
      " [0.0 0.0 0.0 ... 7.35 28 1285]\n",
      " [0.0 0.0 0.0 ... 7.76 32 2828]\n",
      " [0.0 1.0 0.0 ... 7.37 26 1682]]\n"
     ]
    }
   ],
   "source": [
    "print(X_train)"
   ]
  },
  {
   "cell_type": "code",
   "execution_count": 32,
   "metadata": {
    "colab": {
     "base_uri": "https://localhost:8080/",
     "height": 51
    },
    "colab_type": "code",
    "id": "TUrX_Tvcrbi4",
    "outputId": "9a041a9b-2642-4828-fa2f-a431d7d77631"
   },
   "outputs": [
    {
     "data": {
      "text/plain": [
       "array([[0.0, 0.0, 0.0, ..., 7.43, 32, 462],\n",
       "       [0.0, 0.0, 0.0, ..., 7.69, 21, 654],\n",
       "       [0.0, 0.0, 1.0, ..., 7.53, 32, 401],\n",
       "       ...,\n",
       "       [0.0, 0.0, 1.0, ..., 7.15, 28, 632],\n",
       "       [1.0, 0.0, 0.0, ..., 7.34, 29, 670],\n",
       "       [0.0, 0.0, 1.0, ..., 7.31, 27, 539]], dtype=object)"
      ]
     },
     "execution_count": 32,
     "metadata": {},
     "output_type": "execute_result"
    }
   ],
   "source": [
    "X_test"
   ]
  },
  {
   "cell_type": "code",
   "execution_count": 33,
   "metadata": {
    "colab": {
     "base_uri": "https://localhost:8080/",
     "height": 34
    },
    "colab_type": "code",
    "id": "pSMHiIsWreQY",
    "outputId": "5afe91e0-9244-4bf5-ec1b-e3e092b85c08"
   },
   "outputs": [
    {
     "data": {
      "text/plain": [
       "array([ 5, 15,  9, 18,  7, 17,  5, 11, 14,  0,  5,  2, 14, 15,  9, 15,  3,\n",
       "       11, 18, 13, 10, 11,  3, 12, 15,  7,  8, 15,  8,  5, 14,  0, 16, 15,\n",
       "       15,  5, 12, 15, 16, 15, 10,  8,  9,  3, 11,  7,  5,  7, 15,  9,  5,\n",
       "       17, 15, 17,  5,  0,  0, 15, 18,  5, 11, 10,  5,  0, 15, 15,  7,  0,\n",
       "       19, 15, 18, 18, 15, 13,  5,  0, 15,  7,  0,  5, 14,  5, 18, 15, 15,\n",
       "        7,  5,  0,  1,  5,  9,  5,  0,  5,  5,  6, 15,  0, 10,  5, 14, 15,\n",
       "        0,  7,  5,  0,  8,  7,  0,  5,  7,  1,  5,  7, 15, 15,  4, 15, 10,\n",
       "        2, 15,  3, 11,  7, 11, 13, 18,  3, 19, 15, 10,  7, 15, 15, 16, 15,\n",
       "        7,  0, 15, 15, 15,  5, 14, 13,  7, 11, 11,  7, 11, 15,  6, 11, 15,\n",
       "        7,  5,  7, 10, 15, 16, 15, 11, 18, 15, 15, 11, 18, 11, 15,  8,  4,\n",
       "       15, 11,  5, 15, 11, 11,  5,  1,  5,  7, 15, 16,  6, 13,  0,  7, 14,\n",
       "       11, 16, 15, 14, 15,  6, 15, 18,  5,  5, 15, 10, 18,  5, 11, 15, 10,\n",
       "        5, 15,  7,  5,  7,  5, 15,  1,  5, 12, 10, 15,  5,  0,  8,  5, 15,\n",
       "        5,  9, 15, 15, 15,  8, 15, 15,  1, 15,  0, 12,  0, 11, 15, 15, 15,\n",
       "        0, 11, 16,  5,  7, 15, 10,  5,  0,  5, 13,  5, 15, 14, 10,  7,  1,\n",
       "       11,  0, 16,  5,  6, 15,  7, 19, 12, 16,  7, 18,  5,  0, 15,  5,  0,\n",
       "       14, 15,  5,  5,  5,  7, 11,  5,  5,  5, 16, 12,  9,  0, 15,  0, 15,\n",
       "        7,  0, 18,  9,  0, 17, 16,  0, 16,  5, 16, 13, 10, 15,  7, 15,  7,\n",
       "        0,  0, 15,  0, 18, 16,  5, 14,  7,  3,  7, 15, 19, 15,  5, 11, 14,\n",
       "        5,  5,  0,  7,  1, 15, 14,  7,  3, 10,  7,  2,  5,  5, 15, 16, 14,\n",
       "       10,  0, 12, 15,  7, 15, 15,  4,  1,  5, 11, 15, 15, 11,  0,  0, 18,\n",
       "        0,  5, 18, 15, 16, 11,  7,  5,  7,  7, 10,  5,  7, 19,  9, 13,  6,\n",
       "        5,  4,  7,  5, 18,  3, 15, 15, 16, 10, 15,  5, 15, 16, 13, 15,  0,\n",
       "       15,  1, 15,  7,  0, 11, 14, 11, 15, 15,  3,  0, 10, 10, 12,  7, 11,\n",
       "       11,  0, 18, 15,  6, 15,  5,  0, 19,  0,  9,  4, 15,  5,  7,  0, 15,\n",
       "        7, 15,  7,  7,  7, 16, 10, 13,  6,  0,  5,  0,  5, 11,  5,  6,  7,\n",
       "        0,  9, 12, 16,  7, 15,  5, 11, 15,  9,  1,  7,  0, 15,  5,  3,  0,\n",
       "        1, 10,  0,  5, 11, 18,  5,  5,  7, 15, 15, 11, 15,  9,  6,  7, 15,\n",
       "        6,  5,  5, 15,  5, 15, 14,  6,  4,  7,  9,  5, 15,  7, 10, 17, 15,\n",
       "        0, 15,  5,  9,  5,  5,  2, 15, 18, 15,  5, 15, 15,  5, 11,  5,  7,\n",
       "       15, 15, 16,  5,  9,  7, 15,  9, 15,  5,  5, 18, 15, 15,  0, 18,  2,\n",
       "        5, 15, 10,  7, 18, 12,  6,  5, 15,  5,  9, 13,  9, 13, 10,  7, 10,\n",
       "       13, 15,  7,  5, 15,  0,  9,  5,  9, 15, 13,  7, 10,  5,  5, 13,  0,\n",
       "        3, 19, 16,  5,  7,  5,  5, 10, 17, 15, 16,  5, 15,  0, 13, 15,  6,\n",
       "        7, 15, 13, 15,  1,  4,  5,  1,  0,  1,  7, 15, 15, 15, 15,  7,  7,\n",
       "       18, 10,  6,  9, 14,  8, 15,  5,  7,  5,  3, 15,  7,  5,  5,  5,  0,\n",
       "       18, 16, 15,  0, 15, 15, 15, 11,  0,  5, 11, 11, 19,  1,  6,  0, 11,\n",
       "       10, 15, 17, 10,  5,  7,  3,  7, 18, 15,  5, 18, 15, 18,  7,  0, 15,\n",
       "        7, 15, 17,  7,  9,  6,  7,  5,  4,  0, 10, 15,  5,  5, 15, 15,  7,\n",
       "        2, 18,  9,  5, 10, 10, 12, 11,  7,  2,  7,  3,  9, 15, 14,  7, 18,\n",
       "        1,  2, 11,  0, 15, 15, 15, 16, 15,  9,  6, 14,  3, 15, 16, 15,  5,\n",
       "       14, 13, 15, 17, 15,  7, 15, 15, 15,  5,  7,  3,  3,  4, 12,  9, 12,\n",
       "        5, 17, 15,  5, 15,  5,  5, 15, 15,  5,  0, 11, 10,  0,  5, 13, 15,\n",
       "        3,  5, 13, 15,  5,  5, 18, 15, 15,  0, 16, 15,  7, 11,  5,  0, 15,\n",
       "        7,  0,  5, 15, 14, 15,  9,  5,  8, 15, 14,  0, 15,  1,  0, 13, 15,\n",
       "       15,  3, 10,  5, 19, 10,  9,  0, 15,  1,  2,  6, 13,  0, 16, 15,  0,\n",
       "        5, 14, 16, 15,  0,  5,  5, 15, 10,  8, 18, 15,  0,  7,  7, 19, 11,\n",
       "        7, 15,  7, 15, 13,  5,  0, 15, 11,  7, 12,  7,  5, 18, 15, 15,  5,\n",
       "       18,  5,  9,  7, 17,  3,  5, 15, 15,  8, 16, 15,  0,  3, 11,  5,  3,\n",
       "       17, 15,  8,  5, 14, 15,  2, 11,  5,  5,  9, 15,  7,  4, 11, 11, 16,\n",
       "        5, 14,  0, 12, 10,  5, 11,  9,  5, 15,  0, 14,  5,  4,  7, 10,  7,\n",
       "       11, 15, 18, 10, 14, 15, 15, 10, 17, 18,  4,  5,  5,  0, 12,  5,  0,\n",
       "       11, 15,  5,  5,  9, 15, 19,  9,  5, 10,  7, 15,  7, 15, 15, 12, 17,\n",
       "        9, 15, 17,  5,  2,  5, 15,  5, 10, 10,  7, 15, 14, 11,  7, 18,  6,\n",
       "        9, 15,  2,  2, 18, 11, 15, 11,  5, 13,  5])"
      ]
     },
     "execution_count": 33,
     "metadata": {},
     "output_type": "execute_result"
    }
   ],
   "source": [
    "y_train"
   ]
  },
  {
   "cell_type": "code",
   "execution_count": 34,
   "metadata": {
    "colab": {
     "base_uri": "https://localhost:8080/",
     "height": 34
    },
    "colab_type": "code",
    "id": "I_tW7H56rgtW",
    "outputId": "2a93f141-2a99-4a69-eec5-c82a3bb8d36b"
   },
   "outputs": [
    {
     "data": {
      "text/plain": [
       "array([15, 12, 15, 15,  7,  5, 10,  0, 13, 15,  0, 15, 15,  0, 17, 15, 14,\n",
       "       11, 15,  5, 11,  7, 15, 18, 15,  5,  1, 15, 10,  0,  5, 15,  2, 12,\n",
       "       14,  9,  2,  5, 16,  9,  5,  5, 15, 17, 15,  8,  0, 18, 15,  6, 15,\n",
       "        5,  5,  5, 15,  6, 10, 15, 12,  9,  1,  5, 19,  9,  7, 19,  9,  4,\n",
       "       17,  0,  5, 19, 15,  0,  5, 13,  1, 15, 10, 15,  2, 15,  5, 10, 15,\n",
       "       10,  5,  9,  7, 18,  5,  7,  0,  4, 18,  1, 18, 11,  7,  5, 10, 18,\n",
       "       15,  5,  5, 12, 13, 12,  0,  0,  6, 14,  7, 15, 15,  0,  9, 15,  5,\n",
       "        7, 12, 11, 10, 16, 15, 15, 14, 16,  5,  5,  0,  5, 15,  6,  7, 12,\n",
       "        1, 11,  9, 18, 18,  5,  7, 18, 15,  9, 15,  0,  7, 10,  4,  0,  9,\n",
       "        9, 15, 15, 19,  7, 18,  7,  6,  0,  5,  5, 10,  0, 15,  5, 14,  8,\n",
       "       12, 11, 11, 15, 15,  0,  0,  4,  0,  0, 12,  6, 15, 10, 16, 12, 17,\n",
       "       10,  8,  5, 10,  7, 17, 15, 18,  3,  0, 15, 15, 10,  5, 13, 16,  9,\n",
       "       11,  8, 17,  5,  6, 15,  5,  2,  8, 18,  7, 11,  0, 15, 18, 10, 18,\n",
       "        5, 17, 10,  5, 15,  6,  0,  0, 15, 10, 10,  7])"
      ]
     },
     "execution_count": 34,
     "metadata": {},
     "output_type": "execute_result"
    }
   ],
   "source": [
    "y_test"
   ]
  },
  {
   "cell_type": "markdown",
   "metadata": {
    "colab_type": "text",
    "id": "TpGqbS4TqkIR"
   },
   "source": [
    "## Feature Scaling"
   ]
  },
  {
   "cell_type": "code",
   "execution_count": 35,
   "metadata": {
    "colab": {},
    "colab_type": "code",
    "id": "AxjSUXFQqo-3"
   },
   "outputs": [],
   "source": [
    "from sklearn.preprocessing import StandardScaler\n",
    "sc = StandardScaler()\n",
    "X_train[:, 11:] = sc.fit_transform(X_train[:, 11:])\n",
    "X_test[:, 11:] = sc.transform(X_test[:, 11:])"
   ]
  },
  {
   "cell_type": "code",
   "execution_count": 36,
   "metadata": {
    "colab": {
     "base_uri": "https://localhost:8080/",
     "height": 154
    },
    "colab_type": "code",
    "id": "DWPET8ZdlMnu",
    "outputId": "dea86927-5124-4e2a-e974-2804df9a913c"
   },
   "outputs": [
    {
     "data": {
      "text/plain": [
       "array([[0.0, 0.0, 1.0, ..., -1.277762403572537, -0.2114336004211533,\n",
       "        0.3461954464933725],\n",
       "       [0.0, 0.0, 1.0, ..., -0.44051663757759596, 1.723756693088716,\n",
       "        -0.616769625851324],\n",
       "       [0.0, 0.0, 1.0, ..., 0.48334075938233967, -0.2114336004211533,\n",
       "        -0.4609234897819097],\n",
       "       ...,\n",
       "       [0.0, 0.0, 0.0, ..., -0.6137398995075851, 0.030465186267580352,\n",
       "        0.6496852904180214],\n",
       "       [0.0, 0.0, 0.0, ..., 0.5699523903473317, 0.9980603330225151,\n",
       "        3.180954637313876],\n",
       "       [0.0, 1.0, 0.0, ..., -0.5559988121975878, -0.453332387109887,\n",
       "        1.3009580906238893]], dtype=object)"
      ]
     },
     "execution_count": 36,
     "metadata": {},
     "output_type": "execute_result"
    }
   ],
   "source": [
    "X_train"
   ]
  },
  {
   "cell_type": "code",
   "execution_count": 37,
   "metadata": {
    "colab": {
     "base_uri": "https://localhost:8080/",
     "height": 51
    },
    "colab_type": "code",
    "id": "sTXykB_QlRjE",
    "outputId": "b68f0cfc-d07c-48cb-80d0-6800028c41f9"
   },
   "outputs": [
    {
     "data": {
      "text/plain": [
       "array([[0.0, 0.0, 0.0, ..., -0.38277555026760124, 0.9980603330225151,\n",
       "        -0.7004343936359568],\n",
       "       [0.0, 0.0, 0.0, ..., 0.36785858476234773, -1.6628263205535554,\n",
       "        -0.3854611502114565],\n",
       "       [0.0, 0.0, 1.0, ..., -0.09407011371762009, 0.9980603330225151,\n",
       "        -0.8005040178489492],\n",
       "       ...,\n",
       "       [0.0, 0.0, 1.0, ..., -1.1911507726075423, 0.030465186267580352,\n",
       "        -0.42155183435384713],\n",
       "       [1.0, 0.0, 0.0, ..., -0.6426104431625825, 0.27236397295631404,\n",
       "        -0.35921337992608143],\n",
       "       [0.0, 0.0, 1.0, ..., -0.7292220741275771, -0.2114336004211533,\n",
       "        -0.5741169991375895]], dtype=object)"
      ]
     },
     "execution_count": 37,
     "metadata": {},
     "output_type": "execute_result"
    }
   ],
   "source": [
    "X_test"
   ]
  },
  {
   "cell_type": "code",
   "execution_count": 38,
   "metadata": {},
   "outputs": [
    {
     "data": {
      "text/plain": [
       "VotingClassifier(estimators=[('dt',\n",
       "                              DecisionTreeClassifier(criterion='entropy',\n",
       "                                                     random_state=0)),\n",
       "                             ('rf',\n",
       "                              RandomForestClassifier(criterion='entropy',\n",
       "                                                     n_estimators=18,\n",
       "                                                     random_state=0)),\n",
       "                             ('knn', KNeighborsClassifier(n_neighbors=26))],\n",
       "                 weights=[2, 3, 1])"
      ]
     },
     "execution_count": 38,
     "metadata": {},
     "output_type": "execute_result"
    }
   ],
   "source": [
    "from sklearn.tree import DecisionTreeClassifier\n",
    "from sklearn.ensemble import RandomForestClassifier\n",
    "from sklearn.ensemble import VotingClassifier\n",
    "from sklearn.neighbors import KNeighborsClassifier\n",
    "classifier1 = DecisionTreeClassifier(criterion = 'entropy', random_state = 0)\n",
    "classifier2 = RandomForestClassifier(n_estimators = 18, criterion = 'entropy', random_state = 0)\n",
    "classifier3 = KNeighborsClassifier(n_neighbors = 26, metric = 'minkowski', p = 2)\n",
    "classifier = VotingClassifier(estimators=[('dt',classifier1),('rf',classifier2),('knn',classifier3)],voting='hard',weights=[2,3,1])\n",
    "classifier.fit(X_train, y_train)"
   ]
  },
  {
   "cell_type": "code",
   "execution_count": 39,
   "metadata": {},
   "outputs": [
    {
     "name": "stdout",
     "output_type": "stream",
     "text": [
      "[[15 15]\n",
      " [12 12]\n",
      " [15 15]\n",
      " [15 15]\n",
      " [ 7  7]\n",
      " [ 5  5]\n",
      " [15 10]\n",
      " [ 0  0]\n",
      " [13 13]\n",
      " [15 15]\n",
      " [ 0  0]\n",
      " [15 15]\n",
      " [15 15]\n",
      " [ 0  0]\n",
      " [17 17]\n",
      " [15 15]\n",
      " [14 14]\n",
      " [11 11]\n",
      " [15 15]\n",
      " [ 5  5]\n",
      " [11 11]\n",
      " [ 7  7]\n",
      " [15 15]\n",
      " [18 18]\n",
      " [15 15]\n",
      " [ 5  5]\n",
      " [ 1  1]\n",
      " [15 15]\n",
      " [11 10]\n",
      " [ 0  0]\n",
      " [ 5  5]\n",
      " [15 15]\n",
      " [ 5  2]\n",
      " [12 12]\n",
      " [14 14]\n",
      " [ 0  9]\n",
      " [ 2  2]\n",
      " [ 5  5]\n",
      " [16 16]\n",
      " [ 6  9]\n",
      " [ 5  5]\n",
      " [ 5  5]\n",
      " [15 15]\n",
      " [17 17]\n",
      " [15 15]\n",
      " [15  8]\n",
      " [ 0  0]\n",
      " [18 18]\n",
      " [15 15]\n",
      " [ 0  6]\n",
      " [15 15]\n",
      " [ 5  5]\n",
      " [ 5  5]\n",
      " [ 5  5]\n",
      " [15 15]\n",
      " [ 6  6]\n",
      " [10 10]\n",
      " [15 15]\n",
      " [12 12]\n",
      " [11  9]\n",
      " [ 1  1]\n",
      " [ 5  5]\n",
      " [19 19]\n",
      " [ 6  9]\n",
      " [ 7  7]\n",
      " [19 19]\n",
      " [ 9  9]\n",
      " [ 4  4]\n",
      " [17 17]\n",
      " [ 0  0]\n",
      " [ 5  5]\n",
      " [ 5 19]\n",
      " [15 15]\n",
      " [ 0  0]\n",
      " [ 5  5]\n",
      " [13 13]\n",
      " [ 1  1]\n",
      " [15 15]\n",
      " [10 10]\n",
      " [15 15]\n",
      " [ 2  2]\n",
      " [15 15]\n",
      " [ 5  5]\n",
      " [10 10]\n",
      " [15 15]\n",
      " [10 10]\n",
      " [ 5  5]\n",
      " [ 9  9]\n",
      " [ 7  7]\n",
      " [18 18]\n",
      " [ 5  5]\n",
      " [ 7  7]\n",
      " [ 0  0]\n",
      " [ 4  4]\n",
      " [18 18]\n",
      " [ 1  1]\n",
      " [18 18]\n",
      " [11 11]\n",
      " [ 7  7]\n",
      " [ 5  5]\n",
      " [ 7 10]\n",
      " [18 18]\n",
      " [15 15]\n",
      " [ 5  5]\n",
      " [ 5  5]\n",
      " [12 12]\n",
      " [13 13]\n",
      " [ 7 12]\n",
      " [ 0  0]\n",
      " [ 0  0]\n",
      " [ 6  6]\n",
      " [14 14]\n",
      " [15  7]\n",
      " [15 15]\n",
      " [15 15]\n",
      " [ 0  0]\n",
      " [ 9  9]\n",
      " [15 15]\n",
      " [ 5  5]\n",
      " [ 7  7]\n",
      " [12 12]\n",
      " [11 11]\n",
      " [ 7 10]\n",
      " [16 16]\n",
      " [15 15]\n",
      " [15 15]\n",
      " [14 14]\n",
      " [16 16]\n",
      " [ 5  5]\n",
      " [ 5  5]\n",
      " [ 0  0]\n",
      " [ 5  5]\n",
      " [15 15]\n",
      " [15  6]\n",
      " [ 7  7]\n",
      " [12 12]\n",
      " [ 1  1]\n",
      " [11 11]\n",
      " [14  9]\n",
      " [18 18]\n",
      " [18 18]\n",
      " [ 5  5]\n",
      " [15  7]\n",
      " [18 18]\n",
      " [15 15]\n",
      " [ 9  9]\n",
      " [15 15]\n",
      " [ 0  0]\n",
      " [ 7  7]\n",
      " [10 10]\n",
      " [ 4  4]\n",
      " [ 0  0]\n",
      " [ 9  9]\n",
      " [ 9  9]\n",
      " [15 15]\n",
      " [15 15]\n",
      " [19 19]\n",
      " [15  7]\n",
      " [18 18]\n",
      " [ 7  7]\n",
      " [ 6  6]\n",
      " [ 0  0]\n",
      " [ 5  5]\n",
      " [ 5  5]\n",
      " [ 7 10]\n",
      " [ 0  0]\n",
      " [15 15]\n",
      " [ 5  5]\n",
      " [14 14]\n",
      " [ 8  8]\n",
      " [12 12]\n",
      " [11 11]\n",
      " [11 11]\n",
      " [15 15]\n",
      " [15 15]\n",
      " [ 7  0]\n",
      " [ 0  0]\n",
      " [ 2  4]\n",
      " [ 0  0]\n",
      " [ 0  0]\n",
      " [12 12]\n",
      " [ 6  6]\n",
      " [15 15]\n",
      " [10 10]\n",
      " [16 16]\n",
      " [12 12]\n",
      " [17 17]\n",
      " [10 10]\n",
      " [ 8  8]\n",
      " [ 5  5]\n",
      " [10 10]\n",
      " [ 7  7]\n",
      " [17 17]\n",
      " [15 15]\n",
      " [18 18]\n",
      " [ 3  3]\n",
      " [ 0  0]\n",
      " [15 15]\n",
      " [15 15]\n",
      " [15 10]\n",
      " [ 5  5]\n",
      " [13 13]\n",
      " [16 16]\n",
      " [ 9  9]\n",
      " [ 7 11]\n",
      " [ 8  8]\n",
      " [17 17]\n",
      " [ 5  5]\n",
      " [15  6]\n",
      " [15 15]\n",
      " [ 5  5]\n",
      " [ 2  2]\n",
      " [ 8  8]\n",
      " [18 18]\n",
      " [ 7  7]\n",
      " [11 11]\n",
      " [ 0  0]\n",
      " [15 15]\n",
      " [18 18]\n",
      " [15 10]\n",
      " [18 18]\n",
      " [ 5  5]\n",
      " [17 17]\n",
      " [10 10]\n",
      " [ 5  5]\n",
      " [15 15]\n",
      " [ 6  6]\n",
      " [ 0  0]\n",
      " [ 0  0]\n",
      " [15 15]\n",
      " [10 10]\n",
      " [10 10]\n",
      " [ 7  7]]\n"
     ]
    }
   ],
   "source": [
    "y_pred = classifier.predict(X_test)\n",
    "print(np.concatenate((y_pred.reshape(len(y_pred),1), y_test.reshape(len(y_test),1)),1))"
   ]
  },
  {
   "cell_type": "code",
   "execution_count": 40,
   "metadata": {},
   "outputs": [
    {
     "name": "stdout",
     "output_type": "stream",
     "text": [
      "[[23  0  0  0  0  0  0  1  0  0  0  0  0  0  0  0  0  0  0  0]\n",
      " [ 0  5  0  0  0  0  0  0  0  0  0  0  0  0  0  0  0  0  0  0]\n",
      " [ 0  0  3  0  0  1  0  0  0  0  0  0  0  0  0  0  0  0  0  0]\n",
      " [ 0  0  0  1  0  0  0  0  0  0  0  0  0  0  0  0  0  0  0  0]\n",
      " [ 0  0  1  0  3  0  0  0  0  0  0  0  0  0  0  0  0  0  0  0]\n",
      " [ 0  0  0  0  0 33  0  0  0  0  0  0  0  0  0  0  0  0  0  0]\n",
      " [ 1  0  0  0  0  0  5  0  0  0  0  0  0  0  0  2  0  0  0  0]\n",
      " [ 0  0  0  0  0  0  0 13  0  0  0  0  0  0  0  3  0  0  0  0]\n",
      " [ 0  0  0  0  0  0  0  0  4  0  0  0  0  0  0  1  0  0  0  0]\n",
      " [ 1  0  0  0  0  0  2  0  0  7  0  1  0  0  1  0  0  0  0  0]\n",
      " [ 0  0  0  0  0  0  0  3  0  0 11  1  0  0  0  3  0  0  0  0]\n",
      " [ 0  0  0  0  0  0  0  1  0  0  0  8  0  0  0  0  0  0  0  0]\n",
      " [ 0  0  0  0  0  0  0  1  0  0  0  0  9  0  0  0  0  0  0  0]\n",
      " [ 0  0  0  0  0  0  0  0  0  0  0  0  0  4  0  0  0  0  0  0]\n",
      " [ 0  0  0  0  0  0  0  0  0  0  0  0  0  0  5  0  0  0  0  0]\n",
      " [ 0  0  0  0  0  0  0  0  0  0  0  0  0  0  0 45  0  0  0  0]\n",
      " [ 0  0  0  0  0  0  0  0  0  0  0  0  0  0  0  0  5  0  0  0]\n",
      " [ 0  0  0  0  0  0  0  0  0  0  0  0  0  0  0  0  0  7  0  0]\n",
      " [ 0  0  0  0  0  0  0  0  0  0  0  0  0  0  0  0  0  0 14  0]\n",
      " [ 0  0  0  0  0  1  0  0  0  0  0  0  0  0  0  0  0  0  0  3]]\n"
     ]
    },
    {
     "data": {
      "text/plain": [
       "0.8927038626609443"
      ]
     },
     "execution_count": 40,
     "metadata": {},
     "output_type": "execute_result"
    }
   ],
   "source": [
    "from sklearn.metrics import confusion_matrix, accuracy_score\n",
    "cm = confusion_matrix(y_test, y_pred)\n",
    "print(cm)\n",
    "accuracy_score(y_test, y_pred)"
   ]
  },
  {
   "cell_type": "code",
   "execution_count": 46,
   "metadata": {},
   "outputs": [
    {
     "name": "stdout",
     "output_type": "stream",
     "text": [
      "Temperature readings from Arduino: 26.0\n",
      "pH readings from Arduino: 7.25\n",
      "Temperature readings from Arduino: 26.0\n",
      "pH readings from Arduino: 7.25\n",
      "Temperature readings from Arduino: 26.0\n",
      "pH readings from Arduino: 7.27\n",
      "Temperature readings from Arduino: 26.0\n",
      "pH readings from Arduino: 7.44\n",
      "Temperature readings from Arduino: 26.0\n",
      "pH readings from Arduino: 7.26\n",
      "Average Temperature: 26\n",
      "Average pH: 7.29\n"
     ]
    }
   ],
   "source": [
    "import serial\n",
    "\n",
    "def main_func():\n",
    "    list_values=[]\n",
    "    list_in_floats=[]\n",
    "    arduino = serial.Serial('com4', 9600)\n",
    "    arduino_data = arduino.readline()\n",
    "    decoded_values = str(arduino_data[0:len(arduino_data)].decode(\"utf-8\"))\n",
    "    list_values = decoded_values.split(' ')\n",
    "    for item in list_values:\n",
    "        list_in_floats.append(float(item))\n",
    "    arduino_data = 0\n",
    "    arduino.close()\n",
    "    return list_in_floats\n",
    "\n",
    "i=0\n",
    "sum_ph=0\n",
    "sum_temp=0\n",
    "while i<5:\n",
    "    sensor_value=main_func()\n",
    "    print(f'Temperature readings from Arduino:',sensor_value[0])\n",
    "    sum_temp+=sensor_value[0]\n",
    "    print(f'pH readings from Arduino:',sensor_value[1])\n",
    "    sum_ph+=sensor_value[1]\n",
    "    i+=1\n",
    "avg_temp=int(sum_temp/5)\n",
    "print(f'Average Temperature:',avg_temp)\n",
    "avg_ph=round(sum_ph/5,2)\n",
    "print(f'Average pH:',avg_ph)"
   ]
  },
  {
   "cell_type": "code",
   "execution_count": 48,
   "metadata": {},
   "outputs": [
    {
     "name": "stdout",
     "output_type": "stream",
     "text": [
      "Area: Pogalur\n",
      "Soil type: Irugur Series\n",
      "N value: 218.41\n",
      "P value: 12.63\n",
      "K value: 470.6\n",
      "EC value: 0.27\n",
      "pH: 7.29\n",
      "Temperature: 26\n",
      "Rainfall: 1500\n",
      "Predicted Crop: Coconut\n"
     ]
    }
   ],
   "source": [
    "l=[]\n",
    "l1=[]\n",
    "area=input(\"Area: \")\n",
    "soilt=input(\"Soil type: \")\n",
    "vals=soiltype[soilt].tolist()\n",
    "l.extend(vals)\n",
    "l1.extend(vals)\n",
    "nval=float(input(\"N value: \"))\n",
    "l.append(nval)\n",
    "pval=float(input(\"P value: \"))\n",
    "l.append(pval)\n",
    "kval=float(input(\"K value: \"))\n",
    "l.append(kval)\n",
    "ec=float(input(\"EC value: \"))\n",
    "l.append(ec)\n",
    "print(\"pH:\",avg_ph)\n",
    "print(\"Temperature:\",avg_temp)\n",
    "l.append(avg_ph)\n",
    "l.append(avg_temp)\n",
    "rainfall=int(input(\"Rainfall: \"))\n",
    "l.append(rainfall)\n",
    "temp1=sc.transform([l[11:]]).tolist()\n",
    "l1.extend(temp1[0])\n",
    "predicted_value=classifier.predict([l1])\n",
    "print(\"Predicted Crop:\",le.inverse_transform(predicted_value)[0])"
   ]
  },
  {
   "cell_type": "code",
   "execution_count": 43,
   "metadata": {},
   "outputs": [
    {
     "name": "stdout",
     "output_type": "stream",
     "text": [
      "Coconut:\n",
      "[5]\n"
     ]
    }
   ],
   "source": [
    "print(\"Coconut:\")\n",
    "print(le.transform(['Coconut']))"
   ]
  },
  {
   "cell_type": "code",
   "execution_count": null,
   "metadata": {},
   "outputs": [],
   "source": []
  },
  {
   "cell_type": "code",
   "execution_count": null,
   "metadata": {},
   "outputs": [],
   "source": [
    "  "
   ]
  },
  {
   "cell_type": "code",
   "execution_count": null,
   "metadata": {},
   "outputs": [],
   "source": []
  }
 ],
 "metadata": {
  "colab": {
   "collapsed_sections": [],
   "name": "data_preprocessing_tools.ipynb",
   "provenance": [],
   "toc_visible": true
  },
  "kernelspec": {
   "display_name": "Python 3",
   "language": "python",
   "name": "python3"
  }
 },
 "nbformat": 4,
 "nbformat_minor": 1
}
